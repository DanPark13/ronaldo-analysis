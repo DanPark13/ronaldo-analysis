{
 "cells": [
  {
   "cell_type": "markdown",
   "metadata": {},
   "source": [
    "# Why does No One want Ronaldo? - A Statistical Look\n",
    "\n",
    "With the world receiving shocking news from Ronaldo that he wanted to leave Manchester United to play Champions League football, one of the likelier options that stood out were Bayern Munich. And on paper, that makes sense: Lewandowski was forcing his way out of Bayern to join Ronaldo's previous El Clásico rivals Barcelona, and with a striker void it'd seem like a natural short-term fit, right?\n",
    "\n",
    "Although Bayern Munich has already [rejected the idea of moving for Ronaldo](https://www.goal.com/en-us/news/cristiano-ronaldo-philosophy-man-utd-bayern-munich-transfer/blt0ace79bdd3fd0b6b), the transfer market is still not closed until the end of next month. If Bayern can't find a suitable replacement for Lewandowski, the Bavarian giants could still possibly move for the Portuguese veteran.\n",
    "\n",
    "So would Ronaldo work at Bayern Munich?\n",
    "\n",
    "## Context\n",
    "\n",
    "To answer that, we need to compare how Ronaldo and Lewandowski play. No two people are the same, as there is no such thing as two identical strikers, especially two of the best in the world."
   ]
  },
  {
   "cell_type": "code",
   "execution_count": null,
   "metadata": {},
   "outputs": [],
   "source": []
  }
 ],
 "metadata": {
  "kernelspec": {
   "display_name": "Python 3",
   "language": "python",
   "name": "python3"
  },
  "language_info": {
   "codemirror_mode": {
    "name": "ipython",
    "version": 3
   },
   "file_extension": ".py",
   "mimetype": "text/x-python",
   "name": "python",
   "nbconvert_exporter": "python",
   "pygments_lexer": "ipython3",
   "version": "3.8.5"
  }
 },
 "nbformat": 4,
 "nbformat_minor": 4
}
